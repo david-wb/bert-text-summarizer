{
 "cells": [
  {
   "cell_type": "code",
   "execution_count": 26,
   "metadata": {},
   "outputs": [],
   "source": [
    "import tensorflow_datasets as tfds\n",
    "from bavard.metrics.rouge import rouge_n\n",
    "import tensorflow as tf\n",
    "from nltk.tokenize import sent_tokenize\n"
   ]
  },
  {
   "cell_type": "code",
   "execution_count": 27,
   "metadata": {},
   "outputs": [],
   "source": [
    "ds, info = tfds.load('cnn_dailymail', split=\"train\", with_info=True, shuffle_files=False)"
   ]
  },
  {
   "cell_type": "code",
   "execution_count": 36,
   "metadata": {},
   "outputs": [
    {
     "name": "stdout",
     "output_type": "stream",
     "text": [
      "(cnn) -- crews sprayed foam wednesday to extinguish pockets of fire remaining at a texas chemical plant two days after a massive blaze sent bright flames and thick plumes of smoke high into the sky. authorities were still investigating what caused the blaze at the magnablend plant about 30 miles south of dallas. investigators were also trying to determine whether harmful amounts of chemicals had been released. \"the environmental protection agency is continuously monitoring air quality in the area of the fire and downwind from the site and as of noon wednesday have not detected significant levels of chemicals in the air,\" said a statement released by the city of waxahachie, texas. magnablend ceo scott pendery told reporters tuesday that an electrical spark may have led to the blaze, cnn affiliate wfaa reported. but he was less specific about what was going on inside the plant, wfaa said. \"i don't want to reach out and try to suggest exactly what each employee was doing at that time,\" pendery said, according to wfaa. \"there's a variety of events that go on in that plant.\" when pressed, pendery told the cnn affiliate that the plant was producing some chemicals used in hydraulic fracturing or fracking. \"some of those products that we make in that plant do get used in that application,\" pendery told wfaa. but he declined to detail specific chemicals involved at the plant. the fracking process injects water, sand and chemicals deep into the ground, cracking the shale and unleashing natural gas. there have been growing calls from environmental activists to halt fracking until the environmental concerns and benefits are fully studied. there are concerns that the chemicals used in fracking have caused illnesses, gas leaks, even tap water catching fire -- something covered extensively in media reports and in the emmy-winning natural gas documentary \"gasland.\" the environmental protection agency is still studying the claims and is scheduled to release its findings in late 2012. on monday, dave bary -- a dallas-based spokesman for the epa -- said the most prevalent chemical that the plant's owner had documented, and produced on site, was anhydrous ammonia. the epa official said earlier monday that 48,630 pounds of the chemical, which creates a toxic vapor downwind when released, have been reported at the site. it was not known how much of the chemical was released into the air during the fire. officials ordered the evacuation of a school, an apartment building and other industrial sites within an eight-block radius of the plant, said diana buckley, an official with ellis county government. employees and visitors of the plant evacuated safely, plant officials said. two employees sustained minor injuries but were not hospitalized, the company said in a statement. cnn affiliates ktvt and wfaa showed orange flames devouring buildings and licking at tanker cars parked at the edge of the magnablend plant, which is about 30 miles south of dallas. officials have said burning liquid continued to fuel the flames hours after it began, but they appeared able to wrestle the fire under control by early monday evening. magnablend produces custom chemicals for a variety of industries, including oil, agriculture, pet and animal feed, water treatment, construction and industrial cleaning companies, according to its website. anhydrous ammonia is a clear, colorless gas, according to the centers for disease control and prevention. it can be absorbed into the body by inhalation, ingestion, eye contact and skin contact. cnn's ed lavandera, dave alsup and sarah hoye contributed to this report.\n"
     ]
    }
   ],
   "source": [
    "for item in ds.take(1):\n",
    "    print(item['article'].numpy().decode('utf-8'))"
   ]
  },
  {
   "cell_type": "code",
   "execution_count": 30,
   "metadata": {},
   "outputs": [
    {
     "name": "stdout",
     "output_type": "stream",
     "text": [
      "(cnn) -- crews sprayed foam wednesday to extinguish pockets of fire remaining at a texas chemical plant two days after a massive blaze sent bright flames and thick plumes of smoke high into the sky. authorities were still investigating what caused the blaze at the magnablend plant about 30 miles south of dallas. investigators were also trying to determine whether harmful amounts of chemicals had been released. \"the environmental protection agency is continuously monitoring air quality in the area of the fire and downwind from the site and as of noon wednesday have not detected significant levels of chemicals in the air,\" said a statement released by the city of waxahachie, texas. magnablend ceo scott pendery told reporters tuesday that an electrical spark may have led to the blaze, cnn affiliate wfaa reported. but he was less specific about what was going on inside the plant, wfaa said. \"i don't want to reach out and try to suggest exactly what each employee was doing at that time,\" pendery said, according to wfaa. \"there's a variety of events that go on in that plant.\" when pressed, pendery told the cnn affiliate that the plant was producing some chemicals used in hydraulic fracturing or fracking. \"some of those products that we make in that plant do get used in that application,\" pendery told wfaa. but he declined to detail specific chemicals involved at the plant. the fracking process injects water, sand and chemicals deep into the ground, cracking the shale and unleashing natural gas. there have been growing calls from environmental activists to halt fracking until the environmental concerns and benefits are fully studied. there are concerns that the chemicals used in fracking have caused illnesses, gas leaks, even tap water catching fire -- something covered extensively in media reports and in the emmy-winning natural gas documentary \"gasland.\" the environmental protection agency is still studying the claims and is scheduled to release its findings in late 2012. on monday, dave bary -- a dallas-based spokesman for the epa -- said the most prevalent chemical that the plant's owner had documented, and produced on site, was anhydrous ammonia. the epa official said earlier monday that 48,630 pounds of the chemical, which creates a toxic vapor downwind when released, have been reported at the site. it was not known how much of the chemical was released into the air during the fire. officials ordered the evacuation of a school, an apartment building and other industrial sites within an eight-block radius of the plant, said diana buckley, an official with ellis county government. employees and visitors of the plant evacuated safely, plant officials said. two employees sustained minor injuries but were not hospitalized, the company said in a statement. cnn affiliates ktvt and wfaa showed orange flames devouring buildings and licking at tanker cars parked at the edge of the magnablend plant, which is about 30 miles south of dallas. officials have said burning liquid continued to fuel the flames hours after it began, but they appeared able to wrestle the fire under control by early monday evening. magnablend produces custom chemicals for a variety of industries, including oil, agriculture, pet and animal feed, water treatment, construction and industrial cleaning companies, according to its website. anhydrous ammonia is a clear, colorless gas, according to the centers for disease control and prevention. it can be absorbed into the body by inhalation, ingestion, eye contact and skin contact. cnn's ed lavandera, dave alsup and sarah hoye contributed to this report.\n",
      "\n",
      "(cnn) -- crews sprayed foam wednesday to extinguish pockets of fire remaining at a texas chemical plant two days after a massive blaze sent bright flames and thick plumes of smoke high into the sky.\n",
      "authorities were still investigating what caused the blaze at the magnablend plant about 30 miles south of dallas.\n",
      "investigators were also trying to determine whether harmful amounts of chemicals had been released.\n",
      "\"the environmental protection agency is continuously monitoring air quality in the area of the fire and downwind from the site and as of noon wednesday have not detected significant levels of chemicals in the air,\" said a statement released by the city of waxahachie, texas.\n",
      "magnablend ceo scott pendery told reporters tuesday that an electrical spark may have led to the blaze, cnn affiliate wfaa reported.\n",
      "but he was less specific about what was going on inside the plant, wfaa said.\n",
      "\"i don't want to reach out and try to suggest exactly what each employee was doing at that time,\" pendery said, according to wfaa.\n",
      "\"there's a variety of events that go on in that plant.\"\n",
      "when pressed, pendery told the cnn affiliate that the plant was producing some chemicals used in hydraulic fracturing or fracking.\n",
      "\"some of those products that we make in that plant do get used in that application,\" pendery told wfaa.\n",
      "but he declined to detail specific chemicals involved at the plant.\n",
      "the fracking process injects water, sand and chemicals deep into the ground, cracking the shale and unleashing natural gas.\n",
      "there have been growing calls from environmental activists to halt fracking until the environmental concerns and benefits are fully studied.\n",
      "there are concerns that the chemicals used in fracking have caused illnesses, gas leaks, even tap water catching fire -- something covered extensively in media reports and in the emmy-winning natural gas documentary \"gasland.\"\n",
      "the environmental protection agency is still studying the claims and is scheduled to release its findings in late 2012. on monday, dave bary -- a dallas-based spokesman for the epa -- said the most prevalent chemical that the plant's owner had documented, and produced on site, was anhydrous ammonia.\n",
      "the epa official said earlier monday that 48,630 pounds of the chemical, which creates a toxic vapor downwind when released, have been reported at the site.\n",
      "it was not known how much of the chemical was released into the air during the fire.\n",
      "officials ordered the evacuation of a school, an apartment building and other industrial sites within an eight-block radius of the plant, said diana buckley, an official with ellis county government.\n",
      "employees and visitors of the plant evacuated safely, plant officials said.\n",
      "two employees sustained minor injuries but were not hospitalized, the company said in a statement.\n",
      "cnn affiliates ktvt and wfaa showed orange flames devouring buildings and licking at tanker cars parked at the edge of the magnablend plant, which is about 30 miles south of dallas.\n",
      "officials have said burning liquid continued to fuel the flames hours after it began, but they appeared able to wrestle the fire under control by early monday evening.\n",
      "magnablend produces custom chemicals for a variety of industries, including oil, agriculture, pet and animal feed, water treatment, construction and industrial cleaning companies, according to its website.\n",
      "anhydrous ammonia is a clear, colorless gas, according to the centers for disease control and prevention.\n",
      "it can be absorbed into the body by inhalation, ingestion, eye contact and skin contact.\n",
      "cnn's ed lavandera, dave alsup and sarah hoye contributed to this report.\n",
      " \n",
      "authorities were still investigating what caused the blaze at the magnablend plant about 30 miles south of dallas. 0.08333333333333334\n",
      "\"the environmental protection agency is continuously monitoring air quality in the area of the fire and downwind from the site and as of noon wednesday have not detected significant levels of chemicals in the air,\" said a statement released by the city of waxahachie, texas. 0.12121212121212122\n",
      "magnablend ceo scott pendery told reporters tuesday that an electrical spark may have led to the blaze, cnn affiliate wfaa reported. 0.16\n",
      "when pressed, pendery told the cnn affiliate that the plant was producing some chemicals used in hydraulic fracturing or fracking. 0.16216216216216217\n",
      "there are concerns that the chemicals used in fracking have caused illnesses, gas leaks, even tap water catching fire -- something covered extensively in media reports and in the emmy-winning natural gas documentary \"gasland.\" 0.0909090909090909\n"
     ]
    }
   ],
   "source": [
    "\n",
    "ds_np = list(tfds.as_numpy(ds.take(1)))\n",
    "\n",
    "article = ds_np[0]['article'].decode(\"utf-8\")\n",
    "highlights = ds_np[0]['highlights'].decode(\"utf-8\")\n",
    "\n",
    "print(article)\n",
    "print()\n",
    "highlights_words = highlights.split()\n",
    "article_sents = sent_tokenize(article)\n",
    "\n",
    "sent_scores = []\n",
    "for i, sent in enumerate(article_sents):\n",
    "    print(sent)\n",
    "    words = sent.split()\n",
    "    score = rouge_n(highlights_words, words, 2)\n",
    "    sent_scores.append((sent, score, i))\n",
    "\n",
    "print(\" \")\n",
    "sent_scores = sorted(sent_scores, key=lambda x: x[1], reverse=True)\n",
    "top_five = sent_scores[:5]\n",
    "top_five = sorted(top_five, key=lambda x: x[2])\n",
    "for x in top_five:\n",
    "    print(x[0], x[1])"
   ]
  },
  {
   "cell_type": "code",
   "execution_count": null,
   "metadata": {},
   "outputs": [],
   "source": []
  }
 ],
 "metadata": {
  "kernelspec": {
   "display_name": "Python 3",
   "language": "python",
   "name": "python3"
  },
  "language_info": {
   "codemirror_mode": {
    "name": "ipython",
    "version": 3
   },
   "file_extension": ".py",
   "mimetype": "text/x-python",
   "name": "python",
   "nbconvert_exporter": "python",
   "pygments_lexer": "ipython3",
   "version": "3.7.4"
  }
 },
 "nbformat": 4,
 "nbformat_minor": 2
}
